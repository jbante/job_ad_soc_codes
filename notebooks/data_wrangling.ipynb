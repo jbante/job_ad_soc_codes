{
 "cells": [
  {
   "cell_type": "code",
   "execution_count": 1,
   "metadata": {
    "ExecuteTime": {
     "end_time": "2020-08-24T08:13:48.558749Z",
     "start_time": "2020-08-24T08:13:47.762705Z"
    }
   },
   "outputs": [],
   "source": [
    "import functools as fn\n",
    "import re\n",
    "\n",
    "import numpy as np\n",
    "import pandas as pd\n",
    "import spacy\n",
    "from bs4 import BeautifulSoup"
   ]
  },
  {
   "cell_type": "code",
   "execution_count": 2,
   "metadata": {
    "ExecuteTime": {
     "end_time": "2020-08-24T08:13:52.980976Z",
     "start_time": "2020-08-24T08:13:48.561084Z"
    }
   },
   "outputs": [],
   "source": [
    "# text processing functions\n",
    "nlp = spacy.load('en_core_web_md', disable=['tagger', 'ner'])\n",
    "\n",
    "\n",
    "def doc_lemmas(doc):\n",
    "    \"\"\"list of lemmas from a doc(ument)\"\"\"\n",
    "    return [t.lemma_.lower() for t in doc if not (t.is_stop or t.is_punct)]\n",
    "\n",
    "\n",
    "def doc_lemma_str(doc):\n",
    "    \"\"\"string of lemmas from a doc(ument)\"\"\"\n",
    "    return ' '.join(doc_lemmas(doc))\n",
    "\n",
    "\n",
    "def lemma_str(text):\n",
    "    \"\"\"string of lemmas from text\"\"\"\n",
    "    return doc_lemma_str(nlp(text))\n",
    "\n",
    "\n",
    "def no_html(html_text):\n",
    "    \"\"\"text content from html\"\"\"\n",
    "    return BeautifulSoup(html_text, 'lxml').text\n",
    "\n",
    "\n",
    "def normalized_lines(text):\n",
    "    \"\"\"normalized text with no more than one consecutive newline character\"\"\"\n",
    "    lines = text.splitlines()\n",
    "    non_empty = [x for x in lines if x != '']\n",
    "    return '\\n'.join(non_empty)\n",
    "\n",
    "\n",
    "def value_is_nan(x):\n",
    "    \"\"\"Returns true if x is NaN; safe for x of unknown type\"\"\"\n",
    "    return isinstance(x, float) and np.isnan(x)"
   ]
  },
  {
   "cell_type": "markdown",
   "metadata": {},
   "source": [
    "## SOC Codes\n",
    "\n",
    "The U.S. Bureau of Labor Statistics (BLS) defines 867 [Standard Occupational Classification (SOC) codes](https://www.bls.gov/soc/) (in the 2018 scheme). These are the primary targets of the classification task. As part of the SOC system, the BLS also publishes a set of \"[direct match titles](https://www.bls.gov/soc/2018/soc_2018_direct_match_title_file.xlsx)\" that unambiguously indicate a specific SOC code. I use these titles to label any job ads with matching titles, which I then use to benchmark the models that I develop.\n",
    "\n",
    "The [O\\*NET SOC 2019 taxonomy](https://www.onetcenter.org/taxonomy.html) supplements the BLS SOC 2018 system with more detailed descriptions of tasks performed in each occupation, and a slightly more fine-grained set of 1,016 occupations. I use this to create more fleshed-out occupation reference documents for comparisons with job ads.\n",
    "\n",
    "### TODO: O*NET Taxonomy\n",
    "\n",
    "Incorporate the [O*NET taxonomy](https://www.onetcenter.org/taxonomy.html) and other [O*NET databases](https://www.onetcenter.org/database.html), including:\n",
    "- Work activities (which apparently are different from tasks?)\n",
    "- Knowledge/skills/abilities, education/experience/training\n",
    "- Interests, work values, work styles\n",
    "- Technology skills & tools\n",
    "- Context\n",
    "- Related occupations (should be close to each other in embedded space)"
   ]
  },
  {
   "cell_type": "code",
   "execution_count": 3,
   "metadata": {
    "ExecuteTime": {
     "end_time": "2020-08-24T08:13:53.087835Z",
     "start_time": "2020-08-24T08:13:52.982806Z"
    }
   },
   "outputs": [],
   "source": [
    "# read SOC hierarchical structure\n",
    "soc_path = '../source_data/onet_soc/SOC_Structure.xlsx'\n",
    "columns = ['soc_major', 'soc_minor', 'soc_broad', 'soc_detail', 'soc_onet', 'title']\n",
    "occupations = pd.read_excel(soc_path, skiprows=np.arange(4), names=columns, header=None)"
   ]
  },
  {
   "cell_type": "code",
   "execution_count": 4,
   "metadata": {
    "ExecuteTime": {
     "end_time": "2020-08-24T08:13:53.104532Z",
     "start_time": "2020-08-24T08:13:53.089496Z"
    }
   },
   "outputs": [],
   "source": [
    "# fill o*net codes with detail codes\n",
    "soc_onet = occupations['soc_onet'].values\n",
    "for i, detail in enumerate(occupations['soc_detail']):\n",
    "    if value_is_nan(soc_onet[i]) and not value_is_nan(detail):\n",
    "        soc_onet[i] = detail + '.00'\n",
    "\n",
    "occupations['soc_onet'] = soc_onet\n",
    "\n",
    "# fill classification hierarchy\n",
    "occupations['soc_major'] = occupations['soc_major'].ffill()\n",
    "\n",
    "fill_cols = ['soc_major', 'soc_minor', 'soc_broad', 'soc_detail']\n",
    "for i in range(1, len(fill_cols)):\n",
    "    group = fill_cols[:i]\n",
    "    target = fill_cols[i]\n",
    "    occupations[target] = occupations.groupby(group)[target].ffill()"
   ]
  },
  {
   "cell_type": "code",
   "execution_count": 5,
   "metadata": {
    "ExecuteTime": {
     "end_time": "2020-08-24T08:13:53.121580Z",
     "start_time": "2020-08-24T08:13:53.105898Z"
    },
    "scrolled": true
   },
   "outputs": [
    {
     "data": {
      "text/html": [
       "<div>\n",
       "<style scoped>\n",
       "    .dataframe tbody tr th:only-of-type {\n",
       "        vertical-align: middle;\n",
       "    }\n",
       "\n",
       "    .dataframe tbody tr th {\n",
       "        vertical-align: top;\n",
       "    }\n",
       "\n",
       "    .dataframe thead th {\n",
       "        text-align: right;\n",
       "    }\n",
       "</style>\n",
       "<table border=\"1\" class=\"dataframe\">\n",
       "  <thead>\n",
       "    <tr style=\"text-align: right;\">\n",
       "      <th></th>\n",
       "      <th>soc_major</th>\n",
       "      <th>soc_minor</th>\n",
       "      <th>soc_broad</th>\n",
       "      <th>soc_detail</th>\n",
       "      <th>soc_onet</th>\n",
       "      <th>title</th>\n",
       "    </tr>\n",
       "  </thead>\n",
       "  <tbody>\n",
       "    <tr>\n",
       "      <th>3</th>\n",
       "      <td>11-0000</td>\n",
       "      <td>11-1000</td>\n",
       "      <td>11-1010</td>\n",
       "      <td>11-1011</td>\n",
       "      <td>11-1011.00</td>\n",
       "      <td>Chief Executives</td>\n",
       "    </tr>\n",
       "    <tr>\n",
       "      <th>4</th>\n",
       "      <td>11-0000</td>\n",
       "      <td>11-1000</td>\n",
       "      <td>11-1010</td>\n",
       "      <td>11-1011</td>\n",
       "      <td>11-1011.03</td>\n",
       "      <td>Chief Sustainability Officers</td>\n",
       "    </tr>\n",
       "    <tr>\n",
       "      <th>6</th>\n",
       "      <td>11-0000</td>\n",
       "      <td>11-1000</td>\n",
       "      <td>11-1020</td>\n",
       "      <td>11-1021</td>\n",
       "      <td>11-1021.00</td>\n",
       "      <td>General and Operations Managers</td>\n",
       "    </tr>\n",
       "    <tr>\n",
       "      <th>8</th>\n",
       "      <td>11-0000</td>\n",
       "      <td>11-1000</td>\n",
       "      <td>11-1030</td>\n",
       "      <td>11-1031</td>\n",
       "      <td>11-1031.00</td>\n",
       "      <td>Legislators</td>\n",
       "    </tr>\n",
       "    <tr>\n",
       "      <th>11</th>\n",
       "      <td>11-0000</td>\n",
       "      <td>11-2000</td>\n",
       "      <td>11-2010</td>\n",
       "      <td>11-2011</td>\n",
       "      <td>11-2011.00</td>\n",
       "      <td>Advertising and Promotions Managers</td>\n",
       "    </tr>\n",
       "    <tr>\n",
       "      <th>13</th>\n",
       "      <td>11-0000</td>\n",
       "      <td>11-2000</td>\n",
       "      <td>11-2020</td>\n",
       "      <td>11-2021</td>\n",
       "      <td>11-2021.00</td>\n",
       "      <td>Marketing Managers</td>\n",
       "    </tr>\n",
       "    <tr>\n",
       "      <th>14</th>\n",
       "      <td>11-0000</td>\n",
       "      <td>11-2000</td>\n",
       "      <td>11-2020</td>\n",
       "      <td>11-2022</td>\n",
       "      <td>11-2022.00</td>\n",
       "      <td>Sales Managers</td>\n",
       "    </tr>\n",
       "    <tr>\n",
       "      <th>16</th>\n",
       "      <td>11-0000</td>\n",
       "      <td>11-2000</td>\n",
       "      <td>11-2030</td>\n",
       "      <td>11-2032</td>\n",
       "      <td>11-2032.00</td>\n",
       "      <td>Public Relations Managers</td>\n",
       "    </tr>\n",
       "    <tr>\n",
       "      <th>17</th>\n",
       "      <td>11-0000</td>\n",
       "      <td>11-2000</td>\n",
       "      <td>11-2030</td>\n",
       "      <td>11-2033</td>\n",
       "      <td>11-2033.00</td>\n",
       "      <td>Fundraising Managers</td>\n",
       "    </tr>\n",
       "    <tr>\n",
       "      <th>20</th>\n",
       "      <td>11-0000</td>\n",
       "      <td>11-3000</td>\n",
       "      <td>11-3010</td>\n",
       "      <td>11-3012</td>\n",
       "      <td>11-3012.00</td>\n",
       "      <td>Administrative Services Managers</td>\n",
       "    </tr>\n",
       "  </tbody>\n",
       "</table>\n",
       "</div>"
      ],
      "text/plain": [
       "   soc_major soc_minor soc_broad soc_detail    soc_onet  \\\n",
       "3    11-0000   11-1000   11-1010    11-1011  11-1011.00   \n",
       "4    11-0000   11-1000   11-1010    11-1011  11-1011.03   \n",
       "6    11-0000   11-1000   11-1020    11-1021  11-1021.00   \n",
       "8    11-0000   11-1000   11-1030    11-1031  11-1031.00   \n",
       "11   11-0000   11-2000   11-2010    11-2011  11-2011.00   \n",
       "13   11-0000   11-2000   11-2020    11-2021  11-2021.00   \n",
       "14   11-0000   11-2000   11-2020    11-2022  11-2022.00   \n",
       "16   11-0000   11-2000   11-2030    11-2032  11-2032.00   \n",
       "17   11-0000   11-2000   11-2030    11-2033  11-2033.00   \n",
       "20   11-0000   11-3000   11-3010    11-3012  11-3012.00   \n",
       "\n",
       "                                  title  \n",
       "3                      Chief Executives  \n",
       "4         Chief Sustainability Officers  \n",
       "6       General and Operations Managers  \n",
       "8                           Legislators  \n",
       "11  Advertising and Promotions Managers  \n",
       "13                   Marketing Managers  \n",
       "14                       Sales Managers  \n",
       "16            Public Relations Managers  \n",
       "17                 Fundraising Managers  \n",
       "20     Administrative Services Managers  "
      ]
     },
     "execution_count": 5,
     "metadata": {},
     "output_type": "execute_result"
    }
   ],
   "source": [
    "# focus on most detailed level of occupations (which have definitions)\n",
    "onet_occs = occupations[occupations['soc_onet'].notna()]\n",
    "onet_occs.head(10)"
   ]
  },
  {
   "cell_type": "code",
   "execution_count": 6,
   "metadata": {
    "ExecuteTime": {
     "end_time": "2020-08-24T08:13:53.125315Z",
     "start_time": "2020-08-24T08:13:53.123235Z"
    },
    "code_folding": [
     0
    ]
   },
   "outputs": [],
   "source": [
    "# # TODO: consider re-inserting higher-level aggregations\n",
    "# def int_agg(soc_code):\n",
    "#     \"\"\"\n",
    "#     Intermediate aggregation level of an SOC code\n",
    "#     See soc_2018_manual.pdf, pg. 15, https://www.bls.gov/soc/2018/soc_2018_manual.pdf\n",
    "#     \"\"\"\n",
    "#     major_group = int(soc_code[:2])\n",
    "#     for i, bound in enumerate([13, 19, 27, 29, 39, 41, 43, 45, 47, 49, 51, 53, 55]):\n",
    "#         if major_group <= bound:\n",
    "#             return i + 1\n",
    "#     return None\n",
    "\n",
    "\n",
    "# def high_agg(soc_code):\n",
    "#     \"\"\"\n",
    "#     High-level aggregation level of an SOC code\n",
    "#     See soc_2018_manual.pdf, pg. 16, https://www.bls.gov/soc/2018/soc_2018_manual.pdf\n",
    "#     \"\"\"\n",
    "#     major_group = int(soc_code[:2])\n",
    "#     for i, bound in enumerate([29, 39, 43, 49, 53, 55]):\n",
    "#         if major_group <= bound:\n",
    "#             return i + 1\n",
    "#     return None\n",
    "\n",
    "\n",
    "# bls_soc['int_agg'] = bls_soc['major'].apply(int_agg)\n",
    "# bls_soc['high_agg'] = bls_soc['major'].apply(high_agg)"
   ]
  },
  {
   "cell_type": "code",
   "execution_count": 7,
   "metadata": {
    "ExecuteTime": {
     "end_time": "2020-08-24T08:13:53.184824Z",
     "start_time": "2020-08-24T08:13:53.128928Z"
    }
   },
   "outputs": [],
   "source": [
    "# read SOC definitions\n",
    "soc_path = '../source_data/onet_soc/2019_Occupations.xlsx'\n",
    "columns = ['soc_onet', 'title', 'definition']\n",
    "soc_defs = pd.read_excel(soc_path, skiprows=np.arange(4),\n",
    "                         names=columns, header=None)"
   ]
  },
  {
   "cell_type": "code",
   "execution_count": 8,
   "metadata": {
    "ExecuteTime": {
     "end_time": "2020-08-24T08:13:53.193265Z",
     "start_time": "2020-08-24T08:13:53.187406Z"
    },
    "scrolled": false
   },
   "outputs": [],
   "source": [
    "# combine SOC classification hierarchy with definitions\n",
    "onet_occs = onet_occs.set_index('soc_onet')\n",
    "soc_defs = soc_defs.set_index('soc_onet')\n",
    "onet_occs = pd.concat([onet_occs, soc_defs['definition']], axis=1)"
   ]
  },
  {
   "cell_type": "code",
   "execution_count": 9,
   "metadata": {
    "ExecuteTime": {
     "end_time": "2020-08-24T08:13:53.204382Z",
     "start_time": "2020-08-24T08:13:53.194613Z"
    }
   },
   "outputs": [
    {
     "data": {
      "text/html": [
       "<div>\n",
       "<style scoped>\n",
       "    .dataframe tbody tr th:only-of-type {\n",
       "        vertical-align: middle;\n",
       "    }\n",
       "\n",
       "    .dataframe tbody tr th {\n",
       "        vertical-align: top;\n",
       "    }\n",
       "\n",
       "    .dataframe thead th {\n",
       "        text-align: right;\n",
       "    }\n",
       "</style>\n",
       "<table border=\"1\" class=\"dataframe\">\n",
       "  <thead>\n",
       "    <tr style=\"text-align: right;\">\n",
       "      <th></th>\n",
       "      <th>soc_major</th>\n",
       "      <th>soc_minor</th>\n",
       "      <th>soc_broad</th>\n",
       "      <th>soc_detail</th>\n",
       "      <th>title</th>\n",
       "      <th>definition</th>\n",
       "    </tr>\n",
       "    <tr>\n",
       "      <th>soc_onet</th>\n",
       "      <th></th>\n",
       "      <th></th>\n",
       "      <th></th>\n",
       "      <th></th>\n",
       "      <th></th>\n",
       "      <th></th>\n",
       "    </tr>\n",
       "  </thead>\n",
       "  <tbody>\n",
       "    <tr>\n",
       "      <th>11-1011.00</th>\n",
       "      <td>11-0000</td>\n",
       "      <td>11-1000</td>\n",
       "      <td>11-1010</td>\n",
       "      <td>11-1011</td>\n",
       "      <td>Chief Executives</td>\n",
       "      <td>Determine and formulate policies and provide o...</td>\n",
       "    </tr>\n",
       "    <tr>\n",
       "      <th>11-1011.03</th>\n",
       "      <td>11-0000</td>\n",
       "      <td>11-1000</td>\n",
       "      <td>11-1010</td>\n",
       "      <td>11-1011</td>\n",
       "      <td>Chief Sustainability Officers</td>\n",
       "      <td>Communicate and coordinate with management, sh...</td>\n",
       "    </tr>\n",
       "    <tr>\n",
       "      <th>11-1021.00</th>\n",
       "      <td>11-0000</td>\n",
       "      <td>11-1000</td>\n",
       "      <td>11-1020</td>\n",
       "      <td>11-1021</td>\n",
       "      <td>General and Operations Managers</td>\n",
       "      <td>Plan, direct, or coordinate the operations of ...</td>\n",
       "    </tr>\n",
       "    <tr>\n",
       "      <th>11-1031.00</th>\n",
       "      <td>11-0000</td>\n",
       "      <td>11-1000</td>\n",
       "      <td>11-1030</td>\n",
       "      <td>11-1031</td>\n",
       "      <td>Legislators</td>\n",
       "      <td>Develop, introduce, or enact laws and statutes...</td>\n",
       "    </tr>\n",
       "    <tr>\n",
       "      <th>11-2011.00</th>\n",
       "      <td>11-0000</td>\n",
       "      <td>11-2000</td>\n",
       "      <td>11-2010</td>\n",
       "      <td>11-2011</td>\n",
       "      <td>Advertising and Promotions Managers</td>\n",
       "      <td>Plan, direct, or coordinate advertising polici...</td>\n",
       "    </tr>\n",
       "    <tr>\n",
       "      <th>11-2021.00</th>\n",
       "      <td>11-0000</td>\n",
       "      <td>11-2000</td>\n",
       "      <td>11-2020</td>\n",
       "      <td>11-2021</td>\n",
       "      <td>Marketing Managers</td>\n",
       "      <td>Plan, direct, or coordinate marketing policies...</td>\n",
       "    </tr>\n",
       "    <tr>\n",
       "      <th>11-2022.00</th>\n",
       "      <td>11-0000</td>\n",
       "      <td>11-2000</td>\n",
       "      <td>11-2020</td>\n",
       "      <td>11-2022</td>\n",
       "      <td>Sales Managers</td>\n",
       "      <td>Plan, direct, or coordinate the actual distrib...</td>\n",
       "    </tr>\n",
       "    <tr>\n",
       "      <th>11-2032.00</th>\n",
       "      <td>11-0000</td>\n",
       "      <td>11-2000</td>\n",
       "      <td>11-2030</td>\n",
       "      <td>11-2032</td>\n",
       "      <td>Public Relations Managers</td>\n",
       "      <td>Plan, direct, or coordinate activities designe...</td>\n",
       "    </tr>\n",
       "    <tr>\n",
       "      <th>11-2033.00</th>\n",
       "      <td>11-0000</td>\n",
       "      <td>11-2000</td>\n",
       "      <td>11-2030</td>\n",
       "      <td>11-2033</td>\n",
       "      <td>Fundraising Managers</td>\n",
       "      <td>Plan, direct, or coordinate activities to soli...</td>\n",
       "    </tr>\n",
       "    <tr>\n",
       "      <th>11-3012.00</th>\n",
       "      <td>11-0000</td>\n",
       "      <td>11-3000</td>\n",
       "      <td>11-3010</td>\n",
       "      <td>11-3012</td>\n",
       "      <td>Administrative Services Managers</td>\n",
       "      <td>Plan, direct, or coordinate one or more admini...</td>\n",
       "    </tr>\n",
       "  </tbody>\n",
       "</table>\n",
       "</div>"
      ],
      "text/plain": [
       "           soc_major soc_minor soc_broad soc_detail  \\\n",
       "soc_onet                                              \n",
       "11-1011.00   11-0000   11-1000   11-1010    11-1011   \n",
       "11-1011.03   11-0000   11-1000   11-1010    11-1011   \n",
       "11-1021.00   11-0000   11-1000   11-1020    11-1021   \n",
       "11-1031.00   11-0000   11-1000   11-1030    11-1031   \n",
       "11-2011.00   11-0000   11-2000   11-2010    11-2011   \n",
       "11-2021.00   11-0000   11-2000   11-2020    11-2021   \n",
       "11-2022.00   11-0000   11-2000   11-2020    11-2022   \n",
       "11-2032.00   11-0000   11-2000   11-2030    11-2032   \n",
       "11-2033.00   11-0000   11-2000   11-2030    11-2033   \n",
       "11-3012.00   11-0000   11-3000   11-3010    11-3012   \n",
       "\n",
       "                                          title  \\\n",
       "soc_onet                                          \n",
       "11-1011.00                     Chief Executives   \n",
       "11-1011.03        Chief Sustainability Officers   \n",
       "11-1021.00      General and Operations Managers   \n",
       "11-1031.00                          Legislators   \n",
       "11-2011.00  Advertising and Promotions Managers   \n",
       "11-2021.00                   Marketing Managers   \n",
       "11-2022.00                       Sales Managers   \n",
       "11-2032.00            Public Relations Managers   \n",
       "11-2033.00                 Fundraising Managers   \n",
       "11-3012.00     Administrative Services Managers   \n",
       "\n",
       "                                                   definition  \n",
       "soc_onet                                                       \n",
       "11-1011.00  Determine and formulate policies and provide o...  \n",
       "11-1011.03  Communicate and coordinate with management, sh...  \n",
       "11-1021.00  Plan, direct, or coordinate the operations of ...  \n",
       "11-1031.00  Develop, introduce, or enact laws and statutes...  \n",
       "11-2011.00  Plan, direct, or coordinate advertising polici...  \n",
       "11-2021.00  Plan, direct, or coordinate marketing policies...  \n",
       "11-2022.00  Plan, direct, or coordinate the actual distrib...  \n",
       "11-2032.00  Plan, direct, or coordinate activities designe...  \n",
       "11-2033.00  Plan, direct, or coordinate activities to soli...  \n",
       "11-3012.00  Plan, direct, or coordinate one or more admini...  "
      ]
     },
     "execution_count": 9,
     "metadata": {},
     "output_type": "execute_result"
    }
   ],
   "source": [
    "onet_occs.head(10)"
   ]
  },
  {
   "cell_type": "code",
   "execution_count": 10,
   "metadata": {
    "ExecuteTime": {
     "end_time": "2020-08-24T08:13:56.861372Z",
     "start_time": "2020-08-24T08:13:53.205607Z"
    }
   },
   "outputs": [],
   "source": [
    "# omit \"Excludes...\" statements from definitions\n",
    "# see (https://www.bls.gov/soc/2018/soc_2018_manual.pdf), pg. 13\n",
    "def without_exclude(text):\n",
    "    \"\"\"Returns text with 'Excludes' statements removed\"\"\"\n",
    "    doc = nlp(text)\n",
    "    sents = [s.string.strip()\n",
    "             for s in doc.sents if not s.string.startswith('Exclud')]\n",
    "    return ' '.join(sents)\n",
    "\n",
    "\n",
    "onet_occs['definition'] = onet_occs['definition'].apply(without_exclude)"
   ]
  },
  {
   "cell_type": "code",
   "execution_count": 11,
   "metadata": {
    "ExecuteTime": {
     "end_time": "2020-08-24T08:13:57.658318Z",
     "start_time": "2020-08-24T08:13:56.862641Z"
    }
   },
   "outputs": [],
   "source": [
    "# read occupation tasks\n",
    "tasks_path = '../source_data/onet_soc/2019_Tasks.xlsx'\n",
    "tasks = pd.read_excel(tasks_path, skiprows=np.arange(4), usecols=[0, 2],\n",
    "                      names=['soc_onet', 'task'], header=None)"
   ]
  },
  {
   "cell_type": "code",
   "execution_count": 12,
   "metadata": {
    "ExecuteTime": {
     "end_time": "2020-08-24T08:13:57.751596Z",
     "start_time": "2020-08-24T08:13:57.660036Z"
    }
   },
   "outputs": [],
   "source": [
    "# concatenate tasks for the same occupation\n",
    "tasks = tasks.groupby('soc_onet')['task']\n",
    "tasks = tasks.apply(lambda x: '\\n'.join(x))\n",
    "\n",
    "\n",
    "# concatenate tasks with occupation definitions\n",
    "def merged_soc_def(soc_onet):\n",
    "    d = onet_occs.loc[soc_onet, 'definition']\n",
    "    try:\n",
    "        return f'{d}\\n{tasks[soc_onet]}'\n",
    "    except:\n",
    "        return d\n",
    "\n",
    "\n",
    "onet_occs['definition'] = [merged_soc_def(i) for i in onet_occs.index]"
   ]
  },
  {
   "cell_type": "code",
   "execution_count": 13,
   "metadata": {
    "ExecuteTime": {
     "end_time": "2020-08-24T08:13:57.758171Z",
     "start_time": "2020-08-24T08:13:57.753491Z"
    }
   },
   "outputs": [],
   "source": [
    "# re-name columns for export\n",
    "onet_occs = onet_occs.reset_index()\n",
    "columns = onet_occs.columns.tolist()\n",
    "columns[0] = 'soc_onet'\n",
    "onet_occs.columns = columns"
   ]
  },
  {
   "cell_type": "code",
   "execution_count": 14,
   "metadata": {
    "ExecuteTime": {
     "end_time": "2020-08-24T08:14:15.336627Z",
     "start_time": "2020-08-24T08:13:57.759666Z"
    }
   },
   "outputs": [],
   "source": [
    "# lemmatize description text\n",
    "onet_occs['def_lemma'] = onet_occs['definition'].apply(lemma_str)"
   ]
  },
  {
   "cell_type": "code",
   "execution_count": 15,
   "metadata": {
    "ExecuteTime": {
     "end_time": "2020-08-24T08:14:15.626489Z",
     "start_time": "2020-08-24T08:14:15.338460Z"
    }
   },
   "outputs": [],
   "source": [
    "# read SOC match titles\n",
    "titles_path = '../source_data/bls_soc/soc_2018_direct_match_title_file.xlsx'\n",
    "match_titles = pd.read_excel(titles_path, skiprows=np.arange(8), usecols=[0, 2],\n",
    "                             names=['soc_detail', 'title'], header=None)"
   ]
  },
  {
   "cell_type": "code",
   "execution_count": 16,
   "metadata": {
    "ExecuteTime": {
     "end_time": "2020-08-24T08:14:15.635503Z",
     "start_time": "2020-08-24T08:14:15.628124Z"
    }
   },
   "outputs": [
    {
     "data": {
      "text/html": [
       "<div>\n",
       "<style scoped>\n",
       "    .dataframe tbody tr th:only-of-type {\n",
       "        vertical-align: middle;\n",
       "    }\n",
       "\n",
       "    .dataframe tbody tr th {\n",
       "        vertical-align: top;\n",
       "    }\n",
       "\n",
       "    .dataframe thead th {\n",
       "        text-align: right;\n",
       "    }\n",
       "</style>\n",
       "<table border=\"1\" class=\"dataframe\">\n",
       "  <thead>\n",
       "    <tr style=\"text-align: right;\">\n",
       "      <th></th>\n",
       "      <th>soc_detail</th>\n",
       "      <th>title</th>\n",
       "    </tr>\n",
       "  </thead>\n",
       "  <tbody>\n",
       "    <tr>\n",
       "      <th>0</th>\n",
       "      <td>11-1011</td>\n",
       "      <td>Admiral</td>\n",
       "    </tr>\n",
       "    <tr>\n",
       "      <th>1</th>\n",
       "      <td>11-1011</td>\n",
       "      <td>CEO</td>\n",
       "    </tr>\n",
       "    <tr>\n",
       "      <th>2</th>\n",
       "      <td>11-1011</td>\n",
       "      <td>Chief Executive Officer</td>\n",
       "    </tr>\n",
       "    <tr>\n",
       "      <th>3</th>\n",
       "      <td>11-1011</td>\n",
       "      <td>Chief Financial Officer</td>\n",
       "    </tr>\n",
       "    <tr>\n",
       "      <th>4</th>\n",
       "      <td>11-1011</td>\n",
       "      <td>Chief Operating Officer</td>\n",
       "    </tr>\n",
       "    <tr>\n",
       "      <th>5</th>\n",
       "      <td>11-1011</td>\n",
       "      <td>Chief Sustainability Officer</td>\n",
       "    </tr>\n",
       "    <tr>\n",
       "      <th>6</th>\n",
       "      <td>11-1011</td>\n",
       "      <td>Commissioner of Internal Revenue</td>\n",
       "    </tr>\n",
       "    <tr>\n",
       "      <th>7</th>\n",
       "      <td>11-1011</td>\n",
       "      <td>COO</td>\n",
       "    </tr>\n",
       "    <tr>\n",
       "      <th>8</th>\n",
       "      <td>11-1011</td>\n",
       "      <td>County Commissioner</td>\n",
       "    </tr>\n",
       "    <tr>\n",
       "      <th>9</th>\n",
       "      <td>11-1011</td>\n",
       "      <td>Government Service Executive</td>\n",
       "    </tr>\n",
       "  </tbody>\n",
       "</table>\n",
       "</div>"
      ],
      "text/plain": [
       "  soc_detail                             title\n",
       "0    11-1011                           Admiral\n",
       "1    11-1011                               CEO\n",
       "2    11-1011           Chief Executive Officer\n",
       "3    11-1011           Chief Financial Officer\n",
       "4    11-1011           Chief Operating Officer\n",
       "5    11-1011      Chief Sustainability Officer\n",
       "6    11-1011  Commissioner of Internal Revenue\n",
       "7    11-1011                               COO\n",
       "8    11-1011               County Commissioner\n",
       "9    11-1011      Government Service Executive"
      ]
     },
     "execution_count": 16,
     "metadata": {},
     "output_type": "execute_result"
    }
   ],
   "source": [
    "match_titles.head(10)"
   ]
  },
  {
   "cell_type": "markdown",
   "metadata": {},
   "source": [
    "I identify jobs with a \"direct match\" to an SOC code (occupation) as any job where the job title *contains* a title from the BLS direct match file. This amounts to including any more specialized jobs under the banner of more general occupations. It also tends to be consistent with two significant principles of the SOC system:\n",
    "\n",
    "- Trainees for an occupation are counted in the occupation they are training for. So a \"Property Manager in Training (MIT)\" is included in \"Property, Real Estate, and Community Association Managers\" (11-9141), which includes \"Property Manager\" as a direct match title.\n",
    "- Direct managers of individual contributors in an occupation are often counted in the occupation of the staff they manage.\n",
    "\n",
    "I remove some titles from the direct match title file because they match too many unrelated jobs when using a containment test (as opposed to matching full job titles):\n",
    "\n",
    "- \"Operations Analyst\" (\"Operations Research Analysts\", 15-2031)\n",
    "- \"Coach\" (\"Coaches and Scounts\", 27-2022)\n",
    "- \"Acrobat\" (\"Entertainers and Performers, Sports and Related Workers, All Other\", 27-2099)\n",
    "- \"Author\" (\"Writers and Authors\", 27-3043)\n",
    "- \"OT\" (\"Occupational Therapists\", 29-1122)\n",
    "- \"RRT\" (\"Respiratory Therapists\", 29-1126)\n",
    "- \"PT\" (\"Physical therapists\", 29-1123)\n",
    "- \"Blaster\" (\"Explosives Workers, Ordnance Handling Experts, and Blasters\", 47-5032)\n",
    "\n",
    "I also remove all military occupations (55-*). Specific military job openings are not advertised on public job boards."
   ]
  },
  {
   "cell_type": "code",
   "execution_count": 17,
   "metadata": {
    "ExecuteTime": {
     "end_time": "2020-08-24T08:14:15.646985Z",
     "start_time": "2020-08-24T08:14:15.637618Z"
    }
   },
   "outputs": [],
   "source": [
    "# ignore military occupations\n",
    "onet_occs = onet_occs[onet_occs['soc_major'] != '55-0000']\n",
    "match_titles = match_titles[~match_titles['soc_detail'].str.startswith('55-')]\n",
    "\n",
    "# other exclusions\n",
    "exclude = [\n",
    "    'Operations Analyst',\n",
    "    'Coach',\n",
    "    'Acrobat',\n",
    "    'Author',\n",
    "    'OT',\n",
    "    'RRT',\n",
    "    'PT',\n",
    "    'Blaster'\n",
    "]\n",
    "match_titles = match_titles[~match_titles['title'].isin(exclude)]"
   ]
  },
  {
   "cell_type": "code",
   "execution_count": 18,
   "metadata": {
    "ExecuteTime": {
     "end_time": "2020-08-24T08:14:15.758684Z",
     "start_time": "2020-08-24T08:14:15.648283Z"
    }
   },
   "outputs": [],
   "source": [
    "# save wrangled SOC codes\n",
    "soc_path = '../processed_data/occupations.feather'\n",
    "onet_occs.to_feather(soc_path)\n",
    "\n",
    "match_titles_path = '../processed_data/soc_direct_match_titles.feather'\n",
    "match_titles.reset_index().to_feather(match_titles_path)"
   ]
  },
  {
   "cell_type": "markdown",
   "metadata": {},
   "source": [
    "## Indeed Job Descriptions\n",
    "\n",
    "[This data set was posted by PromptCloud and Datastock to Kaggle](https://www.kaggle.com/promptcloud/us-job-data-careerbuildercom-2019), apparently in an effort to market their web scraping services.\n",
    "\n",
    "The data are 30,002 U.S. job ads scraped from Indeed.com between 2019-08-01 and 2019-10-31.\n",
    "\n",
    "Since the focus of this project is labeling job descriptions with SOC codes, I will only use the `Job Title` and `Job Description` columns. The other columns are either empty, not relevant, or we'd like the model to work well without that information because it may not be available in other contexts.\n",
    "\n",
    "### TODO\n",
    "\n",
    "- Include location to see if it improves results.\n",
    "- Include company name or description to see if it improves results. (Company description is often included in job ad body text.)"
   ]
  },
  {
   "cell_type": "code",
   "execution_count": 19,
   "metadata": {
    "ExecuteTime": {
     "end_time": "2020-08-24T08:14:16.790337Z",
     "start_time": "2020-08-24T08:14:15.760292Z"
    }
   },
   "outputs": [
    {
     "name": "stdout",
     "output_type": "stream",
     "text": [
      "<class 'pandas.core.frame.DataFrame'>\n",
      "RangeIndex: 30002 entries, 0 to 30001\n",
      "Data columns (total 2 columns):\n",
      " #   Column       Non-Null Count  Dtype \n",
      "---  ------       --------------  ----- \n",
      " 0   title        30002 non-null  object\n",
      " 1   description  30002 non-null  object\n",
      "dtypes: object(2)\n",
      "memory usage: 468.9+ KB\n"
     ]
    }
   ],
   "source": [
    "indeed_url = '../source_data/indeed/marketing_sample_for_trulia_com-real_estate__20190901_20191031__30k_data.csv'\n",
    "jobs = pd.read_csv(indeed_url, header=0, names=['title', 'description'],\n",
    "                   usecols=[0, 1])\n",
    "jobs.info()"
   ]
  },
  {
   "cell_type": "code",
   "execution_count": 20,
   "metadata": {
    "ExecuteTime": {
     "end_time": "2020-08-24T08:32:13.104398Z",
     "start_time": "2020-08-24T08:14:16.792291Z"
    }
   },
   "outputs": [],
   "source": [
    "# clean-up job text\n",
    "def clean_description(text):\n",
    "    return normalized_lines(no_html(text))\n",
    "\n",
    "\n",
    "jobs['description'] = [clean_description(d) for d in jobs['description']]\n",
    "jobs['desc_lemma'] = jobs['description'].apply(lemma_str)"
   ]
  },
  {
   "cell_type": "code",
   "execution_count": 21,
   "metadata": {
    "ExecuteTime": {
     "end_time": "2020-08-24T08:32:13.114499Z",
     "start_time": "2020-08-24T08:32:13.106100Z"
    }
   },
   "outputs": [
    {
     "data": {
      "text/html": [
       "<div>\n",
       "<style scoped>\n",
       "    .dataframe tbody tr th:only-of-type {\n",
       "        vertical-align: middle;\n",
       "    }\n",
       "\n",
       "    .dataframe tbody tr th {\n",
       "        vertical-align: top;\n",
       "    }\n",
       "\n",
       "    .dataframe thead th {\n",
       "        text-align: right;\n",
       "    }\n",
       "</style>\n",
       "<table border=\"1\" class=\"dataframe\">\n",
       "  <thead>\n",
       "    <tr style=\"text-align: right;\">\n",
       "      <th></th>\n",
       "      <th>title</th>\n",
       "      <th>description</th>\n",
       "      <th>desc_lemma</th>\n",
       "    </tr>\n",
       "  </thead>\n",
       "  <tbody>\n",
       "    <tr>\n",
       "      <th>0</th>\n",
       "      <td>shift manager</td>\n",
       "      <td>WE ARE LOOKING FOR TOP PERFORMERS TO GROW WITH...</td>\n",
       "      <td>looking performers grow \\n del taco need peopl...</td>\n",
       "    </tr>\n",
       "    <tr>\n",
       "      <th>1</th>\n",
       "      <td>operations support manager</td>\n",
       "      <td>JOB PURPOSE: This position is responsible for ...</td>\n",
       "      <td>job purpose position responsible provide opera...</td>\n",
       "    </tr>\n",
       "    <tr>\n",
       "      <th>2</th>\n",
       "      <td>senior product manager - data</td>\n",
       "      <td>Product Manager - Unique opportunity with a mo...</td>\n",
       "      <td>product manager unique opportunity mobile mark...</td>\n",
       "    </tr>\n",
       "    <tr>\n",
       "      <th>3</th>\n",
       "      <td>part-time office concierge</td>\n",
       "      <td>Coldwell Banker in Festus, Missouri is looking...</td>\n",
       "      <td>coldwell banker festus missouri look customer ...</td>\n",
       "    </tr>\n",
       "    <tr>\n",
       "      <th>4</th>\n",
       "      <td>print &amp; marketing associate</td>\n",
       "      <td>Description\\nPosition Summary:\\nThe Copy and P...</td>\n",
       "      <td>description \\n position summary \\n copy print ...</td>\n",
       "    </tr>\n",
       "    <tr>\n",
       "      <th>5</th>\n",
       "      <td>cyber it risk &amp; strategy senior consultant</td>\n",
       "      <td>As a Cyber Risk Senior Consultant for Deloitte...</td>\n",
       "      <td>cyber risk senior consultant deloitte financia...</td>\n",
       "    </tr>\n",
       "    <tr>\n",
       "      <th>6</th>\n",
       "      <td>sales associate, retail part time</td>\n",
       "      <td>GNC is looking for dynamic sales associates th...</td>\n",
       "      <td>gnc look dynamic sale associate live lifestyle...</td>\n",
       "    </tr>\n",
       "    <tr>\n",
       "      <th>7</th>\n",
       "      <td>home lending branch manager-spokane</td>\n",
       "      <td>JOB PURPOSE\\nResponsible for residential loan ...</td>\n",
       "      <td>job purpose \\n responsible residential loan pr...</td>\n",
       "    </tr>\n",
       "    <tr>\n",
       "      <th>8</th>\n",
       "      <td>property manager in training (mit)</td>\n",
       "      <td>Overview\\nJob Location\\nDurham, NC - South Squ...</td>\n",
       "      <td>overview \\n job location \\n durham nc south sq...</td>\n",
       "    </tr>\n",
       "    <tr>\n",
       "      <th>9</th>\n",
       "      <td>compliance specialist, marketing, advertising ...</td>\n",
       "      <td>About Green Thumb Industries:\\nGreen Thumb Ind...</td>\n",
       "      <td>green thumb industries \\n green thumb industri...</td>\n",
       "    </tr>\n",
       "  </tbody>\n",
       "</table>\n",
       "</div>"
      ],
      "text/plain": [
       "                                               title  \\\n",
       "0                                      shift manager   \n",
       "1                         operations support manager   \n",
       "2                      senior product manager - data   \n",
       "3                         part-time office concierge   \n",
       "4                        print & marketing associate   \n",
       "5         cyber it risk & strategy senior consultant   \n",
       "6                  sales associate, retail part time   \n",
       "7                home lending branch manager-spokane   \n",
       "8                 property manager in training (mit)   \n",
       "9  compliance specialist, marketing, advertising ...   \n",
       "\n",
       "                                         description  \\\n",
       "0  WE ARE LOOKING FOR TOP PERFORMERS TO GROW WITH...   \n",
       "1  JOB PURPOSE: This position is responsible for ...   \n",
       "2  Product Manager - Unique opportunity with a mo...   \n",
       "3  Coldwell Banker in Festus, Missouri is looking...   \n",
       "4  Description\\nPosition Summary:\\nThe Copy and P...   \n",
       "5  As a Cyber Risk Senior Consultant for Deloitte...   \n",
       "6  GNC is looking for dynamic sales associates th...   \n",
       "7  JOB PURPOSE\\nResponsible for residential loan ...   \n",
       "8  Overview\\nJob Location\\nDurham, NC - South Squ...   \n",
       "9  About Green Thumb Industries:\\nGreen Thumb Ind...   \n",
       "\n",
       "                                          desc_lemma  \n",
       "0  looking performers grow \\n del taco need peopl...  \n",
       "1  job purpose position responsible provide opera...  \n",
       "2  product manager unique opportunity mobile mark...  \n",
       "3  coldwell banker festus missouri look customer ...  \n",
       "4  description \\n position summary \\n copy print ...  \n",
       "5  cyber risk senior consultant deloitte financia...  \n",
       "6  gnc look dynamic sale associate live lifestyle...  \n",
       "7  job purpose \\n responsible residential loan pr...  \n",
       "8  overview \\n job location \\n durham nc south sq...  \n",
       "9  green thumb industries \\n green thumb industri...  "
      ]
     },
     "execution_count": 21,
     "metadata": {},
     "output_type": "execute_result"
    }
   ],
   "source": [
    "jobs.head(10)"
   ]
  },
  {
   "cell_type": "code",
   "execution_count": 42,
   "metadata": {
    "ExecuteTime": {
     "end_time": "2020-08-24T13:57:34.890872Z",
     "start_time": "2020-08-24T13:57:34.880778Z"
    },
    "scrolled": true
   },
   "outputs": [],
   "source": [
    "match_titles['title'] = match_titles['title'].str.lower()\n",
    "job_titles = jobs['title'].str.lower()\n",
    "\n",
    "def word_match(search_text, text):\n",
    "    \"\"\"True if text contains whole words in search_text; False otherwise\"\"\"\n",
    "    match = re.search(r'\\b' + search_text + r'\\b', text)\n",
    "    return match is not None\n",
    "\n",
    "\n",
    "def direct_match_soc_codes():\n",
    "    \"\"\"array of SOC codes for jobs with direct title matches (or pd.NA in the absence of a match)\"\"\"\n",
    "    n = len(jobs)\n",
    "    job_direct_soc = np.full(n, pd.NA)\n",
    "    match_count = np.full(n, 0)\n",
    "\n",
    "    for soc_detail, title in match_titles.itertuples(index=False):\n",
    "        try:\n",
    "            # find jobs matching title\n",
    "            match = job_titles.apply(fn.partial(word_match, title))\n",
    "            job_direct_soc = np.where(match, soc_detail, job_direct_soc)\n",
    "            match_count += match.astype(int)  # track match collisions\n",
    "        except:\n",
    "            pass\n",
    "\n",
    "    # ignore any SOCs with match collisions, which make the SOC ambiguous\n",
    "    job_direct_soc = np.where(match_count > 1, pd.NA, job_direct_soc)\n",
    "\n",
    "    return job_direct_soc"
   ]
  },
  {
   "cell_type": "code",
   "execution_count": 43,
   "metadata": {
    "ExecuteTime": {
     "end_time": "2020-08-24T14:01:00.888452Z",
     "start_time": "2020-08-24T13:57:35.141726Z"
    }
   },
   "outputs": [],
   "source": [
    "jobs['soc_detail'] = direct_match_soc_codes()"
   ]
  },
  {
   "cell_type": "code",
   "execution_count": 44,
   "metadata": {
    "ExecuteTime": {
     "end_time": "2020-08-24T14:01:01.134239Z",
     "start_time": "2020-08-24T14:01:01.127813Z"
    }
   },
   "outputs": [
    {
     "name": "stdout",
     "output_type": "stream",
     "text": [
      "3163 jobs out of 30002 (11%) could be directly matched by title.\n",
      "167 occupations out of 848 (20%) are represented in the directly matched jobs.\n"
     ]
    }
   ],
   "source": [
    "dm_jobs = jobs[jobs['soc_detail'].notna()]  # direct matched jobs\n",
    "n_dm = len(dm_jobs)\n",
    "n_jobs = len(jobs)\n",
    "print(f'{n_dm} jobs out of {n_jobs} ({n_dm / n_jobs:.0%}) could be directly matched by title.')\n",
    "\n",
    "n_dmsoc = dm_jobs['soc_detail'].nunique()\n",
    "n_soc = onet_occs['soc_detail'].nunique()\n",
    "print(f'{n_dmsoc} occupations out of {n_soc} ({n_dmsoc / n_soc:.0%}) are represented in the directly matched jobs.')"
   ]
  },
  {
   "cell_type": "code",
   "execution_count": 45,
   "metadata": {
    "ExecuteTime": {
     "end_time": "2020-08-24T14:01:24.609867Z",
     "start_time": "2020-08-24T14:01:24.405982Z"
    }
   },
   "outputs": [],
   "source": [
    "# feather format doesn't support pd.NA\n",
    "jobs['soc_detail'] = ['' if pd.isna(soc) else soc for soc in jobs['soc_detail']]\n",
    "\n",
    "# save wrangled job ads\n",
    "jobs_path = '../processed_data/job_ads.feather'\n",
    "jobs.to_feather(jobs_path)"
   ]
  },
  {
   "cell_type": "markdown",
   "metadata": {},
   "source": [
    "### TODO \n",
    "## CareerBuilder Job Descriptions\n",
    "\n",
    "[This data set was posted by PromptCloud and Datastock to Kaggle](https://www.kaggle.com/promptcloud/us-job-data-careerbuildercom-2019), apparently in an effort to market their web scraping services.\n",
    "\n",
    "This data is in LD-JSON format, which Pandas does not read. the `pytablereader` package is also not able to read this file due to a character encoding issue."
   ]
  },
  {
   "cell_type": "code",
   "execution_count": null,
   "metadata": {
    "ExecuteTime": {
     "end_time": "2020-08-24T08:35:38.611649Z",
     "start_time": "2020-08-24T08:13:47.795Z"
    },
    "scrolled": false
   },
   "outputs": [],
   "source": [
    "# cb_url = '../source_data/careerbuilder/marketing_sample_for_careerbuilder_com-jobs__20190901_20191231__30k_data.ldjson'\n",
    "# cd_df = pd.read_json(cb_url)\n",
    "\n",
    "# import pytablereader as ptr\n",
    "# cd_df = ptr.JsonLinesTableFileLoader(cb_url).load()"
   ]
  }
 ],
 "metadata": {
  "kernelspec": {
   "display_name": "Python 3",
   "language": "python",
   "name": "python3"
  },
  "language_info": {
   "codemirror_mode": {
    "name": "ipython",
    "version": 3
   },
   "file_extension": ".py",
   "mimetype": "text/x-python",
   "name": "python",
   "nbconvert_exporter": "python",
   "pygments_lexer": "ipython3",
   "version": "3.7.6"
  },
  "varInspector": {
   "cols": {
    "lenName": "16",
    "lenType": 16,
    "lenVar": 40
   },
   "kernels_config": {
    "python": {
     "delete_cmd_postfix": "",
     "delete_cmd_prefix": "del ",
     "library": "var_list.py",
     "varRefreshCmd": "print(var_dic_list())"
    },
    "r": {
     "delete_cmd_postfix": ") ",
     "delete_cmd_prefix": "rm(",
     "library": "var_list.r",
     "varRefreshCmd": "cat(var_dic_list()) "
    }
   },
   "types_to_exclude": [
    "module",
    "function",
    "builtin_function_or_method",
    "instance",
    "_Feature"
   ],
   "window_display": false
  }
 },
 "nbformat": 4,
 "nbformat_minor": 4
}
